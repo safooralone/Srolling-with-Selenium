{
 "cells": [
  {
   "cell_type": "code",
   "execution_count": null,
   "id": "21e184c3",
   "metadata": {},
   "outputs": [],
   "source": [
    "from selenium import webdriver\n",
    "from selenium.webdriver.common.by import By\n",
    "import time\n",
    "driver=webdriver.Chrome()\n",
    "driver.get(\"https://pixabay.com\")\n",
    "data=[]\n",
    "driver.maximize_window()\n",
    "time.sleep(3)\n",
    "last_height=driver.execute_script(\"return document.body.scrollHeight\")\n",
    "while True:\n",
    "    driver.execute_script(\"window.scrollTo(0, document.body.scrollHeight);\")\n",
    "    time.sleep(3)\n",
    "    images=driver.find_elements(By.CSS_SELECTOR,\"div>div>a>img\")\n",
    "    new_height=driver.execute_script(\"return document.body.scrollHeight\")\n",
    "    if new_height==last_height:\n",
    "        break\n",
    "    print(len(images))\n",
    "    if len(images)>120:\n",
    "        break"
   ]
  },
  {
   "cell_type": "code",
   "execution_count": 4,
   "id": "ce3891b1",
   "metadata": {},
   "outputs": [
    {
     "name": "stdout",
     "output_type": "stream",
     "text": [
      "Free Night Sky Night photo and picture\n",
      "Free Cat Pet photo and picture\n",
      "Free Tram Milan photo and picture\n",
      "Free Crocodile Saltwater photo and picture\n",
      "A breathtaking aerial drone view soaring over a remote tropical island surrounded by crystal-clear turquoise waters and lush greenery, showcasing serene natural beauty, vibrant coastal textures, and tranquil ocean waves under bright blue skies.\n",
      "Free Barley Grain photo and picture\n",
      "Free Boho Drawing illustration and picture\n",
      "Free Seagull Bird photo and picture\n",
      "Free Cathedral Church photo and picture\n",
      "Free Knight Historical photo and picture\n",
      "Free Daisies Nature photo and picture\n",
      "Free Portrait Monochrome photo and picture\n",
      "Free Halloween Witch illustration and picture\n",
      "Free Nuns Rosary photo and picture\n",
      "Free Dog Nature photo and picture\n",
      "Free Swan Full Hd Wallpaper photo and picture\n",
      "Free Grass Nature photo and picture\n",
      "Free Grief Rose photo and picture\n",
      "Free Tokyo Japan photo and picture\n",
      "Free Glasses Banquet photo and picture\n",
      "Free Pattern Background vector and picture\n",
      "Free Dandelion Free Background photo and picture\n",
      "Free Coins Money photo and picture\n",
      "Free Grey Owl photo and picture\n",
      "Free Bird Bean photo and picture\n",
      "Free Girl Jumping vector and picture\n",
      "Consider donating to help me cover the costs of creating these videos. Every dollar is appreciated\n",
      "Free Man Going illustration and picture\n",
      "Free Fire Flames photo and picture\n",
      "Free Canyon Usa photo and picture\n",
      "Free Cat Kitten photo and picture\n",
      "Free Man Elderly photo and picture\n",
      "Free Grasshopper Insect photo and picture\n",
      "Free Walnuts Beautiful Wallpaper photo and picture\n",
      "Powered by Onetrust\n"
     ]
    }
   ],
   "source": [
    "for title in images:\n",
    "    print(title.get_attribute('alt'))"
   ]
  }
 ],
 "metadata": {
  "kernelspec": {
   "display_name": "Python 3",
   "language": "python",
   "name": "python3"
  },
  "language_info": {
   "codemirror_mode": {
    "name": "ipython",
    "version": 3
   },
   "file_extension": ".py",
   "mimetype": "text/x-python",
   "name": "python",
   "nbconvert_exporter": "python",
   "pygments_lexer": "ipython3",
   "version": "3.11.9"
  }
 },
 "nbformat": 4,
 "nbformat_minor": 5
}
